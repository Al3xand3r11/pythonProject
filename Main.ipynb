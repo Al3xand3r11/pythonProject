{
 "cells": [
  {
   "cell_type": "code",
   "execution_count": 4,
   "metadata": {},
   "outputs": [],
   "source": [
    "import pandas as pd\n",
    "\n",
    "df = pd.read_csv('Clean_Dataset.csv')"
   ]
  },
  {
   "cell_type": "code",
   "execution_count": 5,
   "metadata": {},
   "outputs": [
    {
     "name": "stdout",
     "output_type": "stream",
     "text": [
      "Index(['Unnamed: 0', 'airline', 'flight', 'source_city', 'departure_time',\n",
      "       'stops', 'arrival_time', 'destination_city', 'class', 'duration',\n",
      "       'days_left', 'price'],\n",
      "      dtype='object')\n"
     ]
    }
   ],
   "source": [
    "print(df.columns)"
   ]
  },
  {
   "cell_type": "markdown",
   "metadata": {},
   "source": [
    "PreProcessing"
   ]
  },
  {
   "cell_type": "code",
   "execution_count": 6,
   "metadata": {},
   "outputs": [],
   "source": [
    "df = df.drop('Unnamed: 0', axis=1)\n",
    "df = df.drop('flight', axis=1)\n",
    "\n",
    "df['class'] = df['class'].apply(lambda x: 1 if x == 'Business' else 0)"
   ]
  },
  {
   "cell_type": "code",
   "execution_count": 7,
   "metadata": {},
   "outputs": [],
   "source": [
    "df.stops = pd.factorize(df.stops)[0]"
   ]
  },
  {
   "cell_type": "code",
   "execution_count": 8,
   "metadata": {},
   "outputs": [
    {
     "name": "stdout",
     "output_type": "stream",
     "text": [
      "         airline source_city departure_time  stops   arrival_time  \\\n",
      "0       SpiceJet       Delhi        Evening      0          Night   \n",
      "1       SpiceJet       Delhi  Early_Morning      0        Morning   \n",
      "2        AirAsia       Delhi  Early_Morning      0  Early_Morning   \n",
      "3        Vistara       Delhi        Morning      0      Afternoon   \n",
      "4        Vistara       Delhi        Morning      0        Morning   \n",
      "...          ...         ...            ...    ...            ...   \n",
      "300148   Vistara     Chennai        Morning      1        Evening   \n",
      "300149   Vistara     Chennai      Afternoon      1          Night   \n",
      "300150   Vistara     Chennai  Early_Morning      1          Night   \n",
      "300151   Vistara     Chennai  Early_Morning      1        Evening   \n",
      "300152   Vistara     Chennai        Morning      1        Evening   \n",
      "\n",
      "       destination_city  class  duration  days_left  price  \n",
      "0                Mumbai      0      2.17          1   5953  \n",
      "1                Mumbai      0      2.33          1   5953  \n",
      "2                Mumbai      0      2.17          1   5956  \n",
      "3                Mumbai      0      2.25          1   5955  \n",
      "4                Mumbai      0      2.33          1   5955  \n",
      "...                 ...    ...       ...        ...    ...  \n",
      "300148        Hyderabad      1     10.08         49  69265  \n",
      "300149        Hyderabad      1     10.42         49  77105  \n",
      "300150        Hyderabad      1     13.83         49  79099  \n",
      "300151        Hyderabad      1     10.00         49  81585  \n",
      "300152        Hyderabad      1     10.08         49  81585  \n",
      "\n",
      "[300153 rows x 10 columns]\n"
     ]
    }
   ],
   "source": [
    "print(df)"
   ]
  },
  {
   "cell_type": "code",
   "execution_count": 9,
   "metadata": {},
   "outputs": [],
   "source": [
    "df = df.join(pd.get_dummies(df.airline, prefix='airline')).drop('airline', axis=1)\n",
    "df = df.join(pd.get_dummies(df.source_city, prefix='source')).drop('source_city', axis=1)\n",
    "df = df.join(pd.get_dummies(df.destination_city, prefix='dest')).drop('destination_city', axis=1)\n",
    "df = df.join(pd.get_dummies(df.arrival_time, prefix='arrival')).drop('arrival_time', axis=1)\n",
    "df = df.join(pd.get_dummies(df.departure_time, prefix='departure')).drop('departure_time', axis=1)"
   ]
  },
  {
   "cell_type": "code",
   "execution_count": 10,
   "metadata": {},
   "outputs": [
    {
     "name": "stdout",
     "output_type": "stream",
     "text": [
      "        stops  class  duration  days_left  price  airline_AirAsia  \\\n",
      "0           0      0      2.17          1   5953            False   \n",
      "1           0      0      2.33          1   5953            False   \n",
      "2           0      0      2.17          1   5956             True   \n",
      "3           0      0      2.25          1   5955            False   \n",
      "4           0      0      2.33          1   5955            False   \n",
      "...       ...    ...       ...        ...    ...              ...   \n",
      "300148      1      1     10.08         49  69265            False   \n",
      "300149      1      1     10.42         49  77105            False   \n",
      "300150      1      1     13.83         49  79099            False   \n",
      "300151      1      1     10.00         49  81585            False   \n",
      "300152      1      1     10.08         49  81585            False   \n",
      "\n",
      "        airline_Air_India  airline_GO_FIRST  airline_Indigo  airline_SpiceJet  \\\n",
      "0                   False             False           False              True   \n",
      "1                   False             False           False              True   \n",
      "2                   False             False           False             False   \n",
      "3                   False             False           False             False   \n",
      "4                   False             False           False             False   \n",
      "...                   ...               ...             ...               ...   \n",
      "300148              False             False           False             False   \n",
      "300149              False             False           False             False   \n",
      "300150              False             False           False             False   \n",
      "300151              False             False           False             False   \n",
      "300152              False             False           False             False   \n",
      "\n",
      "        ...  arrival_Evening  arrival_Late_Night  arrival_Morning  \\\n",
      "0       ...            False               False            False   \n",
      "1       ...            False               False             True   \n",
      "2       ...            False               False            False   \n",
      "3       ...            False               False            False   \n",
      "4       ...            False               False             True   \n",
      "...     ...              ...                 ...              ...   \n",
      "300148  ...             True               False            False   \n",
      "300149  ...            False               False            False   \n",
      "300150  ...            False               False            False   \n",
      "300151  ...             True               False            False   \n",
      "300152  ...             True               False            False   \n",
      "\n",
      "        arrival_Night  departure_Afternoon  departure_Early_Morning  \\\n",
      "0                True                False                    False   \n",
      "1               False                False                     True   \n",
      "2               False                False                     True   \n",
      "3               False                False                    False   \n",
      "4               False                False                    False   \n",
      "...               ...                  ...                      ...   \n",
      "300148          False                False                    False   \n",
      "300149           True                 True                    False   \n",
      "300150           True                False                     True   \n",
      "300151          False                False                     True   \n",
      "300152          False                False                    False   \n",
      "\n",
      "        departure_Evening  departure_Late_Night  departure_Morning  \\\n",
      "0                    True                 False              False   \n",
      "1                   False                 False              False   \n",
      "2                   False                 False              False   \n",
      "3                   False                 False               True   \n",
      "4                   False                 False               True   \n",
      "...                   ...                   ...                ...   \n",
      "300148              False                 False               True   \n",
      "300149              False                 False              False   \n",
      "300150              False                 False              False   \n",
      "300151              False                 False              False   \n",
      "300152              False                 False               True   \n",
      "\n",
      "        departure_Night  \n",
      "0                 False  \n",
      "1                 False  \n",
      "2                 False  \n",
      "3                 False  \n",
      "4                 False  \n",
      "...                 ...  \n",
      "300148            False  \n",
      "300149            False  \n",
      "300150            False  \n",
      "300151            False  \n",
      "300152            False  \n",
      "\n",
      "[300153 rows x 35 columns]\n"
     ]
    }
   ],
   "source": [
    "print(df)"
   ]
  },
  {
   "cell_type": "code",
   "execution_count": 11,
   "metadata": {},
   "outputs": [],
   "source": [
    "df[\"airline_Air_India\"] = df[\"airline_Air_India\"].astype(int)"
   ]
  },
  {
   "cell_type": "markdown",
   "metadata": {},
   "source": []
  },
  {
   "cell_type": "code",
   "execution_count": 12,
   "metadata": {},
   "outputs": [
    {
     "name": "stdout",
     "output_type": "stream",
     "text": [
      "        stops  class  duration  days_left  price  airline_AirAsia  \\\n",
      "0           0      0      2.17          1   5953            False   \n",
      "1           0      0      2.33          1   5953            False   \n",
      "2           0      0      2.17          1   5956             True   \n",
      "3           0      0      2.25          1   5955            False   \n",
      "4           0      0      2.33          1   5955            False   \n",
      "...       ...    ...       ...        ...    ...              ...   \n",
      "300148      1      1     10.08         49  69265            False   \n",
      "300149      1      1     10.42         49  77105            False   \n",
      "300150      1      1     13.83         49  79099            False   \n",
      "300151      1      1     10.00         49  81585            False   \n",
      "300152      1      1     10.08         49  81585            False   \n",
      "\n",
      "        airline_Air_India  airline_GO_FIRST  airline_Indigo  airline_SpiceJet  \\\n",
      "0                       0             False           False              True   \n",
      "1                       0             False           False              True   \n",
      "2                       0             False           False             False   \n",
      "3                       0             False           False             False   \n",
      "4                       0             False           False             False   \n",
      "...                   ...               ...             ...               ...   \n",
      "300148                  0             False           False             False   \n",
      "300149                  0             False           False             False   \n",
      "300150                  0             False           False             False   \n",
      "300151                  0             False           False             False   \n",
      "300152                  0             False           False             False   \n",
      "\n",
      "        ...  arrival_Evening  arrival_Late_Night  arrival_Morning  \\\n",
      "0       ...            False               False            False   \n",
      "1       ...            False               False             True   \n",
      "2       ...            False               False            False   \n",
      "3       ...            False               False            False   \n",
      "4       ...            False               False             True   \n",
      "...     ...              ...                 ...              ...   \n",
      "300148  ...             True               False            False   \n",
      "300149  ...            False               False            False   \n",
      "300150  ...            False               False            False   \n",
      "300151  ...             True               False            False   \n",
      "300152  ...             True               False            False   \n",
      "\n",
      "        arrival_Night  departure_Afternoon  departure_Early_Morning  \\\n",
      "0                True                False                    False   \n",
      "1               False                False                     True   \n",
      "2               False                False                     True   \n",
      "3               False                False                    False   \n",
      "4               False                False                    False   \n",
      "...               ...                  ...                      ...   \n",
      "300148          False                False                    False   \n",
      "300149           True                 True                    False   \n",
      "300150           True                False                     True   \n",
      "300151          False                False                     True   \n",
      "300152          False                False                    False   \n",
      "\n",
      "        departure_Evening  departure_Late_Night  departure_Morning  \\\n",
      "0                    True                 False              False   \n",
      "1                   False                 False              False   \n",
      "2                   False                 False              False   \n",
      "3                   False                 False               True   \n",
      "4                   False                 False               True   \n",
      "...                   ...                   ...                ...   \n",
      "300148              False                 False               True   \n",
      "300149              False                 False              False   \n",
      "300150              False                 False              False   \n",
      "300151              False                 False              False   \n",
      "300152              False                 False               True   \n",
      "\n",
      "        departure_Night  \n",
      "0                 False  \n",
      "1                 False  \n",
      "2                 False  \n",
      "3                 False  \n",
      "4                 False  \n",
      "...                 ...  \n",
      "300148            False  \n",
      "300149            False  \n",
      "300150            False  \n",
      "300151            False  \n",
      "300152            False  \n",
      "\n",
      "[300153 rows x 35 columns]\n"
     ]
    }
   ],
   "source": [
    "print(df)"
   ]
  },
  {
   "cell_type": "code",
   "execution_count": 13,
   "metadata": {},
   "outputs": [],
   "source": [
    "df[\"airline_SpiceJet\"] = df[\"airline_SpiceJet\"].astype(int)"
   ]
  },
  {
   "cell_type": "code",
   "execution_count": 14,
   "metadata": {},
   "outputs": [
    {
     "name": "stdout",
     "output_type": "stream",
     "text": [
      "        stops  class  duration  days_left  price  airline_AirAsia  \\\n",
      "0           0      0      2.17          1   5953            False   \n",
      "1           0      0      2.33          1   5953            False   \n",
      "2           0      0      2.17          1   5956             True   \n",
      "3           0      0      2.25          1   5955            False   \n",
      "4           0      0      2.33          1   5955            False   \n",
      "...       ...    ...       ...        ...    ...              ...   \n",
      "300148      1      1     10.08         49  69265            False   \n",
      "300149      1      1     10.42         49  77105            False   \n",
      "300150      1      1     13.83         49  79099            False   \n",
      "300151      1      1     10.00         49  81585            False   \n",
      "300152      1      1     10.08         49  81585            False   \n",
      "\n",
      "        airline_Air_India  airline_GO_FIRST  airline_Indigo  airline_SpiceJet  \\\n",
      "0                       0             False           False                 1   \n",
      "1                       0             False           False                 1   \n",
      "2                       0             False           False                 0   \n",
      "3                       0             False           False                 0   \n",
      "4                       0             False           False                 0   \n",
      "...                   ...               ...             ...               ...   \n",
      "300148                  0             False           False                 0   \n",
      "300149                  0             False           False                 0   \n",
      "300150                  0             False           False                 0   \n",
      "300151                  0             False           False                 0   \n",
      "300152                  0             False           False                 0   \n",
      "\n",
      "        ...  arrival_Evening  arrival_Late_Night  arrival_Morning  \\\n",
      "0       ...            False               False            False   \n",
      "1       ...            False               False             True   \n",
      "2       ...            False               False            False   \n",
      "3       ...            False               False            False   \n",
      "4       ...            False               False             True   \n",
      "...     ...              ...                 ...              ...   \n",
      "300148  ...             True               False            False   \n",
      "300149  ...            False               False            False   \n",
      "300150  ...            False               False            False   \n",
      "300151  ...             True               False            False   \n",
      "300152  ...             True               False            False   \n",
      "\n",
      "        arrival_Night  departure_Afternoon  departure_Early_Morning  \\\n",
      "0                True                False                    False   \n",
      "1               False                False                     True   \n",
      "2               False                False                     True   \n",
      "3               False                False                    False   \n",
      "4               False                False                    False   \n",
      "...               ...                  ...                      ...   \n",
      "300148          False                False                    False   \n",
      "300149           True                 True                    False   \n",
      "300150           True                False                     True   \n",
      "300151          False                False                     True   \n",
      "300152          False                False                    False   \n",
      "\n",
      "        departure_Evening  departure_Late_Night  departure_Morning  \\\n",
      "0                    True                 False              False   \n",
      "1                   False                 False              False   \n",
      "2                   False                 False              False   \n",
      "3                   False                 False               True   \n",
      "4                   False                 False               True   \n",
      "...                   ...                   ...                ...   \n",
      "300148              False                 False               True   \n",
      "300149              False                 False              False   \n",
      "300150              False                 False              False   \n",
      "300151              False                 False              False   \n",
      "300152              False                 False               True   \n",
      "\n",
      "        departure_Night  \n",
      "0                 False  \n",
      "1                 False  \n",
      "2                 False  \n",
      "3                 False  \n",
      "4                 False  \n",
      "...                 ...  \n",
      "300148            False  \n",
      "300149            False  \n",
      "300150            False  \n",
      "300151            False  \n",
      "300152            False  \n",
      "\n",
      "[300153 rows x 35 columns]\n"
     ]
    }
   ],
   "source": [
    "print(df)"
   ]
  },
  {
   "cell_type": "code",
   "execution_count": 15,
   "metadata": {},
   "outputs": [],
   "source": [
    "df[\"airline_Indigo\"] = df[\"airline_Indigo\"].astype(int)\n",
    "df[\"airline_GO_FIRST\"] = df[\"airline_GO_FIRST\"].astype(int)\n",
    "df[\"airline_AirAsia\"] = df[\"airline_AirAsia\"].astype(int)\n",
    "df[\"arrival_Evening\"] = df[\"arrival_Evening\"].astype(int)\n",
    "df[\"arrival_Late_Night\"] = df[\"arrival_Late_Night\"].astype(int)\n",
    "df[\"arrival_Morning\"] = df[\"arrival_Morning\"].astype(int)\n",
    "df[\"arrival_Night\"] = df[\"arrival_Night\"].astype(int)\n",
    "df[\"departure_Afternoon\"] = df[\"departure_Afternoon\"].astype(int)\n",
    "df[\"departure_Early_Morning\"] = df[\"departure_Early_Morning\"].astype(int)\n",
    "df[\"departure_Evening\"] = df[\"departure_Evening\"].astype(int)\n",
    "df[\"departure_Late_Night\"] = df[\"departure_Late_Night\"].astype(int)\n",
    "df[\"departure_Morning\"] = df[\"departure_Morning\"].astype(int)\n",
    "df[\"departure_Night\"] = df[\"departure_Night\"].astype(int)"
   ]
  },
  {
   "cell_type": "code",
   "execution_count": 16,
   "metadata": {},
   "outputs": [
    {
     "name": "stdout",
     "output_type": "stream",
     "text": [
      "        stops  class  duration  days_left  price  airline_AirAsia  \\\n",
      "0           0      0      2.17          1   5953                0   \n",
      "1           0      0      2.33          1   5953                0   \n",
      "2           0      0      2.17          1   5956                1   \n",
      "3           0      0      2.25          1   5955                0   \n",
      "4           0      0      2.33          1   5955                0   \n",
      "...       ...    ...       ...        ...    ...              ...   \n",
      "300148      1      1     10.08         49  69265                0   \n",
      "300149      1      1     10.42         49  77105                0   \n",
      "300150      1      1     13.83         49  79099                0   \n",
      "300151      1      1     10.00         49  81585                0   \n",
      "300152      1      1     10.08         49  81585                0   \n",
      "\n",
      "        airline_Air_India  airline_GO_FIRST  airline_Indigo  airline_SpiceJet  \\\n",
      "0                       0                 0               0                 1   \n",
      "1                       0                 0               0                 1   \n",
      "2                       0                 0               0                 0   \n",
      "3                       0                 0               0                 0   \n",
      "4                       0                 0               0                 0   \n",
      "...                   ...               ...             ...               ...   \n",
      "300148                  0                 0               0                 0   \n",
      "300149                  0                 0               0                 0   \n",
      "300150                  0                 0               0                 0   \n",
      "300151                  0                 0               0                 0   \n",
      "300152                  0                 0               0                 0   \n",
      "\n",
      "        ...  arrival_Evening  arrival_Late_Night  arrival_Morning  \\\n",
      "0       ...                0                   0                0   \n",
      "1       ...                0                   0                1   \n",
      "2       ...                0                   0                0   \n",
      "3       ...                0                   0                0   \n",
      "4       ...                0                   0                1   \n",
      "...     ...              ...                 ...              ...   \n",
      "300148  ...                1                   0                0   \n",
      "300149  ...                0                   0                0   \n",
      "300150  ...                0                   0                0   \n",
      "300151  ...                1                   0                0   \n",
      "300152  ...                1                   0                0   \n",
      "\n",
      "        arrival_Night  departure_Afternoon  departure_Early_Morning  \\\n",
      "0                   1                    0                        0   \n",
      "1                   0                    0                        1   \n",
      "2                   0                    0                        1   \n",
      "3                   0                    0                        0   \n",
      "4                   0                    0                        0   \n",
      "...               ...                  ...                      ...   \n",
      "300148              0                    0                        0   \n",
      "300149              1                    1                        0   \n",
      "300150              1                    0                        1   \n",
      "300151              0                    0                        1   \n",
      "300152              0                    0                        0   \n",
      "\n",
      "        departure_Evening  departure_Late_Night  departure_Morning  \\\n",
      "0                       1                     0                  0   \n",
      "1                       0                     0                  0   \n",
      "2                       0                     0                  0   \n",
      "3                       0                     0                  1   \n",
      "4                       0                     0                  1   \n",
      "...                   ...                   ...                ...   \n",
      "300148                  0                     0                  1   \n",
      "300149                  0                     0                  0   \n",
      "300150                  0                     0                  0   \n",
      "300151                  0                     0                  0   \n",
      "300152                  0                     0                  1   \n",
      "\n",
      "        departure_Night  \n",
      "0                     0  \n",
      "1                     0  \n",
      "2                     0  \n",
      "3                     0  \n",
      "4                     0  \n",
      "...                 ...  \n",
      "300148                0  \n",
      "300149                0  \n",
      "300150                0  \n",
      "300151                0  \n",
      "300152                0  \n",
      "\n",
      "[300153 rows x 35 columns]\n"
     ]
    }
   ],
   "source": [
    "print(df)"
   ]
  },
  {
   "cell_type": "markdown",
   "metadata": {},
   "source": [
    "Training Regression Model"
   ]
  },
  {
   "cell_type": "code",
   "execution_count": 17,
   "metadata": {},
   "outputs": [],
   "source": [
    "from sklearn.model_selection import train_test_split\n",
    "from sklearn.ensemble import RandomForestRegressor\n",
    "\n",
    "X, y = df.drop('price', axis=1), df.price"
   ]
  },
  {
   "cell_type": "code",
   "execution_count": 19,
   "metadata": {},
   "outputs": [
    {
     "data": {
      "text/plain": [
       "0          5953\n",
       "1          5953\n",
       "2          5956\n",
       "3          5955\n",
       "4          5955\n",
       "          ...  \n",
       "300148    69265\n",
       "300149    77105\n",
       "300150    79099\n",
       "300151    81585\n",
       "300152    81585\n",
       "Name: price, Length: 300153, dtype: int64"
      ]
     },
     "execution_count": 19,
     "metadata": {},
     "output_type": "execute_result"
    }
   ],
   "source": [
    "y"
   ]
  },
  {
   "cell_type": "code",
   "execution_count": null,
   "metadata": {},
   "outputs": [],
   "source": []
  }
 ],
 "metadata": {
  "kernelspec": {
   "display_name": "Python 3.10.8 ('base')",
   "language": "python",
   "name": "python3"
  },
  "language_info": {
   "codemirror_mode": {
    "name": "ipython",
    "version": 3
   },
   "file_extension": ".py",
   "mimetype": "text/x-python",
   "name": "python",
   "nbconvert_exporter": "python",
   "pygments_lexer": "ipython3",
   "version": "3.10.8"
  },
  "orig_nbformat": 4,
  "vscode": {
   "interpreter": {
    "hash": "41fe559f4bd428b27cc78f29d9c16dfe05506d766adfbc4680ec43c4250228b2"
   }
  }
 },
 "nbformat": 4,
 "nbformat_minor": 2
}
